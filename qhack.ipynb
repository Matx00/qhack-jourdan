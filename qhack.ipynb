{
 "cells": [
  {
   "cell_type": "code",
   "execution_count": 27,
   "metadata": {},
   "outputs": [],
   "source": [
    "import pennylane as qml"
   ]
  },
  {
   "cell_type": "code",
   "execution_count": 28,
   "metadata": {},
   "outputs": [
    {
     "data": {
      "text/plain": [
       "'B'"
      ]
     },
     "execution_count": 28,
     "metadata": {},
     "output_type": "execute_result"
    }
   ],
   "source": [
    "import re\n",
    "\n",
    "c = \"A2[B]\"\n",
    "\n",
    "a = re.findall('\\[.*?\\]',c)[0]\n",
    "a = a[1:len(c)-3]\n",
    "a"
   ]
  },
  {
   "cell_type": "code",
   "execution_count": 29,
   "metadata": {},
   "outputs": [
    {
     "name": "stdout",
     "output_type": "stream",
     "text": [
      "1\n",
      "[B]\n",
      "'[B]'\n",
      "A\n"
     ]
    }
   ],
   "source": [
    "#!/bin/python3\n",
    "\n",
    "import math\n",
    "import os\n",
    "import random\n",
    "import re\n",
    "import sys\n",
    "\n",
    " \n",
    "\n",
    "def convert_schedule(compressed):\n",
    "    # a = compressed[compressed.find(\"[\")+1:compressed.find(\"]\")]\n",
    "    # a = re.findall('\\[.*?\\]',compressed)\n",
    "    \n",
    "    s = \"\"\n",
    "    l = 0\n",
    "    while l < len(compressed):\n",
    "        i = compressed[l]\n",
    "        if i.isalpha():\n",
    "            s = s + i\n",
    "            l += 1\n",
    "        else:\n",
    "            print(l) \n",
    "            print(compressed[l+1:])\n",
    "            a = re.findall('\\[.*?\\]', compressed[l+1:])[0]\n",
    "            print(repr(a)) \n",
    "            f = convert_schedule(a[1:-1])\n",
    "            for k in range(int(i)):\n",
    "                s = s + f\n",
    "            l += len(a)+1\n",
    "    return s\n",
    "\n",
    "if __name__ == '__main__': \n",
    "\n",
    "    compressed = \"A2[B]\"\n",
    "\n",
    "    result = convert_schedule(compressed)\n",
    "    print(result)\n",
    " "
   ]
  }
 ],
 "metadata": {
  "interpreter": {
   "hash": "a8373dd855a74c5d1b0e14e490d0a581ac5a48a23f18537e8af11afe159094d3"
  },
  "kernelspec": {
   "display_name": "Python 3.8.8 ('base')",
   "language": "python",
   "name": "python3"
  },
  "language_info": {
   "codemirror_mode": {
    "name": "ipython",
    "version": 3
   },
   "file_extension": ".py",
   "mimetype": "text/x-python",
   "name": "python",
   "nbconvert_exporter": "python",
   "pygments_lexer": "ipython3",
   "version": "3.8.8"
  },
  "orig_nbformat": 4
 },
 "nbformat": 4,
 "nbformat_minor": 2
}
